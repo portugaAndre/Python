{
  "nbformat": 4,
  "nbformat_minor": 0,
  "metadata": {
    "colab": {
      "provenance": []
    },
    "kernelspec": {
      "name": "python3",
      "display_name": "Python 3"
    },
    "language_info": {
      "name": "python"
    }
  },
  "cells": [
    {
      "cell_type": "code",
      "execution_count": 6,
      "metadata": {
        "colab": {
          "base_uri": "https://localhost:8080/"
        },
        "id": "EJQjOs0gRkAh",
        "outputId": "030a826c-32e8-41f2-a175-dc326d0f0368"
      },
      "outputs": [
        {
          "output_type": "stream",
          "name": "stdout",
          "text": [
            "Digite o seu nome: Andre\n",
            "Digite o seu peso em KG: 69\n",
            "Digite a sua altura em metros (1.74): 1.74\n",
            "Andre  O seu imc é:  22.79032897344431\n"
          ]
        }
      ],
      "source": [
        "def calculo_imc(peso, altura):\n",
        "    numero1 = float(peso)\n",
        "    numero2 = float(altura)\n",
        "    resultado = (numero1 / (numero2 ** 2))\n",
        "    return resultado\n",
        "\n",
        "nome=input('Digite o seu nome: ')\n",
        "peso1= input('Digite o seu peso em KG: ')\n",
        "altura1 = input('Digite a sua altura em metros (1.74): ')\n",
        "resultado = calculo_imc(peso1,altura1)\n",
        "print(nome,\" O seu imc é: \", resultado)\n",
        "\n",
        "\n"
      ]
    }
  ]
}