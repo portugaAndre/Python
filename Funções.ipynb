{
  "nbformat": 4,
  "nbformat_minor": 0,
  "metadata": {
    "colab": {
      "provenance": []
    },
    "kernelspec": {
      "name": "python3",
      "display_name": "Python 3"
    },
    "language_info": {
      "name": "python"
    }
  },
  "cells": [
    {
      "cell_type": "code",
      "source": [
        "def soma(num1, num2):\n",
        "  numero1 = int(num1)\n",
        "  numero2 = int(num2)\n",
        "  soma = numero1 + numero2\n",
        "\n",
        "  return soma\n",
        "\n",
        "def subtracao(num1, num2):\n",
        "  numero1 = int(num1)\n",
        "  numero2 = int(num2)\n",
        "  sub = numero1 - numero2\n",
        "  return sub \n",
        "\n",
        "def multiplicacao(num1, num2):\n",
        "  numero1 = int(num1)\n",
        "  numero2 = int(num2)\n",
        "  resultado = 0\n",
        "  for _ in range(numero2):\n",
        "        resultado = soma(resultado, numero1)\n",
        "  return resultado\n",
        "\n",
        "def potencia(num1, num2):\n",
        "  numero1 = int(num1)\n",
        "  numero2 = int(num2)\n",
        "  resultado = 1\n",
        "  for _ in range(numero2):\n",
        "        resultado = multiplicacao(resultado, numero1)\n",
        "  return resultado\n",
        "\n",
        "opcoes = {\n",
        "    \"1\": soma,\n",
        "    \"2\": subtracao,\n",
        "    \"3\": multiplicacao,\n",
        "    \"4\": potencia\n",
        "}\n",
        "while True:\n",
        "    print(\"\\n Digite 2 numeros para realizar uma operação.\\n\")\n",
        "    numero1 = input(\"Digite o numero1: \")\n",
        "    numero2 = input(\"Digite o numero2 \")\n",
        "\n",
        "    print(\"Escolha uma opção para escolher uma operação.\\n Opção1 = Soma\\n Opção2 = Subtracao\\n Opção3 = Multiplicacao\\n Opção4 = Potenciação\\n Opção = Sair \")\n",
        "    opcao = input(\"Digite a opção: \")\n",
        "\n",
        "    if opcao == \"1\":\n",
        "        print(\"Opção 1 selecionada.\")\n",
        "        resultado1 = soma(numero1, numero2);\n",
        "        print(\"O resultado da soma é: \", resultado1)\n",
        "\n",
        "\n",
        "    elif opcao == \"2\":\n",
        "        print(\"Opção 2 selecionada.\")\n",
        "        resultado2 = subtracao(numero1, numero2);\n",
        "        print(\"O resultado da subtracao é: \", resultado2)\n",
        "\n",
        "    elif opcao == \"3\":\n",
        "        print(\"Opção 3 selecionada.\")\n",
        "        resultado3 = multiplicacao(numero1, numero2);\n",
        "        print(\"O resultado da multiplicacao é: \", resultado3)\n",
        "\n",
        "    elif opcao == \"4\":\n",
        "        print(\"Opção 4 selecionada.\")\n",
        "        resultado4 = potencia(numero1, numero2);\n",
        "        print(\"O resultado da potenciacao é: \", resultado4)\n",
        "\n",
        "    elif opcao == \"Sair\":\n",
        "        print(\"Saindo do programa...\")\n",
        "        break\n",
        "\n",
        "    elif numero1 == \"Sair\":\n",
        "        print(\"Saindo do programa...\")\n",
        "        break\n",
        "\n",
        "    else:\n",
        "        print(\"Opção inválida. Tente novamente.\")"
      ],
      "metadata": {
        "colab": {
          "base_uri": "https://localhost:8080/"
        },
        "id": "CZqQ0EttLMRC",
        "outputId": "e85578b0-79e4-4cd6-8af4-17e2bc9abf20"
      },
      "execution_count": 22,
      "outputs": [
        {
          "output_type": "stream",
          "name": "stdout",
          "text": [
            "\n",
            " Digite 2 numeros para realizar uma operação.\n",
            "\n",
            "Digite o numero1: 2\n",
            "Digite o numero2 2\n",
            "Escolha uma opção para escolher uma operação.\n",
            " Opção1 = Soma\n",
            " Opção2 = Subtracao\n",
            " Opção3 = Multiplicacao\n",
            " Opção4 = Potenciação\n",
            " Opção = Sair \n",
            "Digite a opção: 1\n",
            "Opção 1 selecionada.\n",
            "O resultado da soma é:  4\n",
            "\n",
            " Digite 2 numeros para realizar uma operação.\n",
            "\n",
            "Digite o numero1: Sair\n",
            "Digite o numero2 Sair\n",
            "Escolha uma opção para escolher uma operação.\n",
            " Opção1 = Soma\n",
            " Opção2 = Subtracao\n",
            " Opção3 = Multiplicacao\n",
            " Opção4 = Potenciação\n",
            " Opção = Sair \n",
            "Digite a opção: Sair\n",
            "Saindo do programa...\n"
          ]
        }
      ]
    },
    {
      "cell_type": "code",
      "source": [],
      "metadata": {
        "id": "7oy8uRdVEXYe"
      },
      "execution_count": null,
      "outputs": []
    }
  ]
}